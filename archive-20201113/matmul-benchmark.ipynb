{
 "cells": [
  {
   "cell_type": "code",
   "execution_count": 1,
   "metadata": {},
   "outputs": [
    {
     "name": "stdout",
     "output_type": "stream",
     "text": [
      "58.5 ms ± 2.32 ms per loop (mean ± std. dev. of 7 runs, 1 loop each)\n",
      "102 ms ± 369 µs per loop (mean ± std. dev. of 7 runs, 10 loops each)\n"
     ]
    }
   ],
   "source": [
    "import torch\n",
    "a = torch.randn(10240, 10240, device='cuda')\n",
    "b = torch.randn(10240, 10240, device='cuda')\n",
    "torch.cuda.synchronize()\n",
    "\n",
    "%timeit a @ b; torch.cuda.synchronize()\n",
    "torch.backends.cuda.matmul.allow_tf32 = False\n",
    "%timeit a @ b; torch.cuda.synchronize()"
   ]
  },
  {
   "cell_type": "code",
   "execution_count": null,
   "metadata": {},
   "outputs": [],
   "source": []
  }
 ],
 "metadata": {
  "kernelspec": {
   "display_name": "Python 3",
   "language": "python",
   "name": "python3"
  },
  "language_info": {
   "codemirror_mode": {
    "name": "ipython",
    "version": 3
   },
   "file_extension": ".py",
   "mimetype": "text/x-python",
   "name": "python",
   "nbconvert_exporter": "python",
   "pygments_lexer": "ipython3",
   "version": "3.8.6"
  }
 },
 "nbformat": 4,
 "nbformat_minor": 4
}
