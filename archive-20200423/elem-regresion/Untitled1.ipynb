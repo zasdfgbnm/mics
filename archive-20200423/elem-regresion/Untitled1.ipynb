{
 "cells": [
  {
   "cell_type": "code",
   "execution_count": 1,
   "metadata": {},
   "outputs": [
    {
     "name": "stdout",
     "output_type": "stream",
     "text": [
      "1.4.0\n",
      "14 µs ± 15.5 ns per loop (mean ± std. dev. of 7 runs, 100000 loops each)\n"
     ]
    }
   ],
   "source": [
    "import torch\n",
    "print(torch.__version__)\n",
    "a = torch.rand(2, 2)\n",
    "b = torch.rand(1024, 1024)\n",
    "c = torch.rand(2, 2)\n",
    "for i in range(10000):\n",
    "    b + b\n",
    "%timeit a.add_(-0.01, c); torch.cuda.synchronize()"
   ]
  },
  {
   "cell_type": "code",
   "execution_count": 2,
   "metadata": {},
   "outputs": [
    {
     "name": "stdout",
     "output_type": "stream",
     "text": [
      "1.4.0.dev20200101\n",
      "15.2 µs ± 45.7 ns per loop (mean ± std. dev. of 7 runs, 100000 loops each)\n"
     ]
    }
   ],
   "source": [
    "import torch\n",
    "print(torch.__version__)\n",
    "a = torch.rand(2, 2)\n",
    "b = torch.rand(1024, 1024)\n",
    "c = torch.rand(2, 2)\n",
    "for i in range(10000):\n",
    "    b + b\n",
    "%timeit a.add_(-0.01, c); torch.cuda.synchronize()"
   ]
  },
  {
   "cell_type": "code",
   "execution_count": null,
   "metadata": {},
   "outputs": [
    {
     "name": "stdout",
     "output_type": "stream",
     "text": [
      "1.5.0.dev20200108\n"
     ]
    }
   ],
   "source": [
    "import torch\n",
    "print(torch.__version__)\n",
    "a = torch.rand(2, 2)\n",
    "c = torch.rand(2, 2)\n",
    "%timeit a.add_(c, alpha=-0.01);\n",
    "%timeit a.add_(c);\n",
    "alpha=torch.tensor(0.1, dtype=torch.float) \n",
    "%timeit a.add_(c, alpha=alpha);"
   ]
  },
  {
   "cell_type": "code",
   "execution_count": null,
   "metadata": {},
   "outputs": [],
   "source": []
  }
 ],
 "metadata": {
  "kernelspec": {
   "display_name": "Python 3",
   "language": "python",
   "name": "python3"
  },
  "language_info": {
   "codemirror_mode": {
    "name": "ipython",
    "version": 3
   },
   "file_extension": ".py",
   "mimetype": "text/x-python",
   "name": "python",
   "nbconvert_exporter": "python",
   "pygments_lexer": "ipython3",
   "version": "3.7.3"
  }
 },
 "nbformat": 4,
 "nbformat_minor": 2
}
