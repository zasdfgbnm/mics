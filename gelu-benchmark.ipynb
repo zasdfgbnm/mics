{
 "cells": [
  {
   "cell_type": "markdown",
   "metadata": {},
   "source": [
    "# Before"
   ]
  },
  {
   "cell_type": "code",
   "execution_count": 1,
   "metadata": {},
   "outputs": [
    {
     "name": "stdout",
     "output_type": "stream",
     "text": [
      "1.8.0a0+2fa91fa\n",
      "4.33 ms ± 144 µs per loop (mean ± std. dev. of 7 runs, 100 loops each)\n",
      "4.2 ms ± 130 µs per loop (mean ± std. dev. of 7 runs, 100 loops each)\n",
      "12.5 ms ± 93.2 µs per loop (mean ± std. dev. of 7 runs, 100 loops each)\n"
     ]
    }
   ],
   "source": [
    "import torch\n",
    "print(torch.__version__)\n",
    "\n",
    "@torch.jit.script\n",
    "def bias_gelu(x):\n",
    "    return  x * 0.5 * (1.0 + torch.erf(x * 0.70710678))\n",
    "\n",
    "@torch.jit.script\n",
    "def bias_gelu_back(g, x):\n",
    "    ff = 0.5 * (1. + torch.erf(x * 0.70710678)) + 0.3989423 * x * torch.exp(-0.5 * x * x)\n",
    "    return ff*g\n",
    "\n",
    "a = torch.randn(1024*1024*256, device='cuda')\n",
    "torch.cuda.synchronize()\n",
    "%timeit torch.nn.functional.gelu(a); torch.cuda.synchronize()\n",
    "torch.cuda.synchronize()\n",
    "%timeit bias_gelu(a); torch.cuda.synchronize()\n",
    "\n",
    "a.requires_grad_(True)\n",
    "b = torch.nn.functional.gelu(a)\n",
    "torch.cuda.synchronize()\n",
    "%timeit b.backward(b, retain_graph=True); torch.cuda.synchronize()"
   ]
  },
  {
   "cell_type": "markdown",
   "metadata": {},
   "source": [
    "# After"
   ]
  },
  {
   "cell_type": "code",
   "execution_count": 1,
   "metadata": {},
   "outputs": [
    {
     "name": "stdout",
     "output_type": "stream",
     "text": [
      "1.8.0a0+2fa91fa\n",
      "5.85 ms ± 183 µs per loop (mean ± std. dev. of 7 runs, 100 loops each)\n",
      "4.15 ms ± 115 µs per loop (mean ± std. dev. of 7 runs, 100 loops each)\n",
      "12.6 ms ± 306 µs per loop (mean ± std. dev. of 7 runs, 100 loops each)\n"
     ]
    }
   ],
   "source": [
    "import torch\n",
    "print(torch.__version__)\n",
    "\n",
    "@torch.jit.script\n",
    "def bias_gelu(x):\n",
    "    return  x * 0.5 * (1.0 + torch.erf(x * 0.70710678))\n",
    "\n",
    "@torch.jit.script\n",
    "def bias_gelu_back(g, x):\n",
    "    ff = 0.5 * (1. + torch.erf(x * 0.70710678)) + 0.3989423 * x * torch.exp(-0.5 * x * x)\n",
    "    return ff*g\n",
    "\n",
    "a = torch.randn(1024*1024*256, device='cuda')\n",
    "torch.cuda.synchronize()\n",
    "%timeit torch.nn.functional.gelu(a); torch.cuda.synchronize()\n",
    "torch.cuda.synchronize()\n",
    "%timeit bias_gelu(a); torch.cuda.synchronize()\n",
    "\n",
    "a.requires_grad_(True)\n",
    "b = torch.nn.functional.gelu(a)\n",
    "torch.cuda.synchronize()\n",
    "%timeit b.backward(b, retain_graph=True); torch.cuda.synchronize()"
   ]
  },
  {
   "cell_type": "code",
   "execution_count": null,
   "metadata": {},
   "outputs": [],
   "source": []
  }
 ],
 "metadata": {
  "kernelspec": {
   "display_name": "Python 3",
   "language": "python",
   "name": "python3"
  },
  "language_info": {
   "codemirror_mode": {
    "name": "ipython",
    "version": 3
   },
   "file_extension": ".py",
   "mimetype": "text/x-python",
   "name": "python",
   "nbconvert_exporter": "python",
   "pygments_lexer": "ipython3",
   "version": "3.8.5"
  }
 },
 "nbformat": 4,
 "nbformat_minor": 4
}
