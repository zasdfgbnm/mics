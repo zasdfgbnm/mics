{
 "cells": [
  {
   "cell_type": "code",
   "execution_count": 3,
   "metadata": {},
   "outputs": [
    {
     "name": "stdout",
     "output_type": "stream",
     "text": [
      "559 ms ± 867 µs per loop (mean ± std. dev. of 7 runs, 1 loop each)\n",
      "669 ms ± 112 µs per loop (mean ± std. dev. of 7 runs, 1 loop each)\n"
     ]
    }
   ],
   "source": [
    "import torch\n",
    "\n",
    "_8GB = 8 * 1024 * 1024 * 1024\n",
    "RTX3090_pcie4 = 'cuda:0'\n",
    "RTX2080ti_pcie3 = 'cuda:1'\n",
    "\n",
    "tensor = torch.ones(_8GB, dtype=torch.int8)\n",
    "torch.cuda.synchronize()\n",
    "%timeit tensor.to(device=RTX3090_pcie4, non_blocking=False)\n",
    "%timeit tensor.to(device=RTX2080ti_pcie3, non_blocking=False)"
   ]
  },
  {
   "cell_type": "code",
   "execution_count": null,
   "metadata": {},
   "outputs": [],
   "source": []
  }
 ],
 "metadata": {
  "kernelspec": {
   "display_name": "Python 3",
   "language": "python",
   "name": "python3"
  },
  "language_info": {
   "codemirror_mode": {
    "name": "ipython",
    "version": 3
   },
   "file_extension": ".py",
   "mimetype": "text/x-python",
   "name": "python",
   "nbconvert_exporter": "python",
   "pygments_lexer": "ipython3",
   "version": "3.8.6"
  }
 },
 "nbformat": 4,
 "nbformat_minor": 4
}
